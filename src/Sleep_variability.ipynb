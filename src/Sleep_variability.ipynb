{
 "cells": [
  {
   "cell_type": "code",
   "execution_count": 1,
   "metadata": {},
   "outputs": [],
   "source": [
    "import pandas as pd\n",
    "import numpy as np\n",
    "import matplotlib.pyplot as plt\n",
    "import math"
   ]
  },
  {
   "cell_type": "code",
   "execution_count": 6,
   "metadata": {},
   "outputs": [],
   "source": [
    "data = pd.read_csv('test.csv')\n",
    "dataset_2 = pd.read_csv('Sleepdata_example_1440.csv')"
   ]
  },
  {
   "cell_type": "code",
   "execution_count": 9,
   "metadata": {},
   "outputs": [
    {
     "data": {
      "text/plain": [
       "array([0., 0., 0., ..., 1., 1., 1.])"
      ]
     },
     "execution_count": 9,
     "metadata": {},
     "output_type": "execute_result"
    }
   ],
   "source": [
    "data = data['sleep'].values\n",
    "data"
   ]
  },
  {
   "cell_type": "code",
   "execution_count": 8,
   "metadata": {},
   "outputs": [
    {
     "data": {
      "text/plain": [
       "array([nan, nan, nan, ...,  0.,  0.,  0.])"
      ]
     },
     "execution_count": 8,
     "metadata": {},
     "output_type": "execute_result"
    }
   ],
   "source": [
    "dataset_2 = dataset_2['Asleep'].values\n",
    "dataset_2"
   ]
  },
  {
   "cell_type": "code",
   "execution_count": 11,
   "metadata": {},
   "outputs": [
    {
     "name": "stdout",
     "output_type": "stream",
     "text": [
      "Data contains 17704 datapoints\n",
      "Dataset2 contains 145440 datapoints\n"
     ]
    }
   ],
   "source": [
    "print(f\"Data contains {len(data)} datapoints\")\n",
    "print(f\"Dataset2 contains {len(dataset_2)} datapoints\")"
   ]
  },
  {
   "cell_type": "code",
   "execution_count": 15,
   "metadata": {},
   "outputs": [],
   "source": [
    "data = data[0:17280]"
   ]
  },
  {
   "cell_type": "code",
   "execution_count": 13,
   "metadata": {},
   "outputs": [
    {
     "name": "stdout",
     "output_type": "stream",
     "text": [
      "Data contains 6.147222222222222 days\n",
      "Dataset_2 contains 101.0 days\n"
     ]
    }
   ],
   "source": [
    "print(f\"Data contains {len(data)/2880} days\")\n",
    "print(f\"Dataset_2 contains {len(dataset_2)/1440} days\")"
   ]
  },
  {
   "cell_type": "code",
   "execution_count": 114,
   "metadata": {},
   "outputs": [
    {
     "data": {
      "text/plain": [
       "(array([ 0.,  1., nan, nan, nan, nan, nan]),\n",
       " array([10504,  6771,     1,     1,     1,     1,     1], dtype=int64))"
      ]
     },
     "execution_count": 114,
     "metadata": {},
     "output_type": "execute_result"
    }
   ],
   "source": [
    "np.unique(data, return_counts=True)"
   ]
  },
  {
   "cell_type": "code",
   "execution_count": 17,
   "metadata": {
    "scrolled": false
   },
   "outputs": [
    {
     "data": {
      "image/png": "[encoded data removed]",
      "text/plain": [
       "<Figure size 432x288 with 1 Axes>"
      ]
     },
     "metadata": {
      "needs_background": "light"
     },
     "output_type": "display_data"
    }
   ],
   "source": [
    "#visualize sleep data\n",
    "plt.imshow(np.reshape(data, (-1, 2880)).astype('uint8'), cmap=\"Greys\", aspect=300)\n",
    "plt.xlabel(f\"Epoch (of {2880})\")\n",
    "plt.ylabel(\"Day\")\n",
    "plt.show()"
   ]
  },
  {
   "cell_type": "code",
   "execution_count": 27,
   "metadata": {},
   "outputs": [
    {
     "data": {
      "image/png": "[encoded data removed]",
      "text/plain": [
       "<Figure size 432x288 with 1 Axes>"
      ]
     },
     "metadata": {
      "needs_background": "light"
     },
     "output_type": "display_data"
    }
   ],
   "source": [
    "#visualize sleep data\n",
    "plt.imshow(np.reshape(dataset_2[0:8640], (-1, 1440)).astype('uint8'), cmap=\"Greys\", aspect=300, interpolation=None)\n",
    "plt.xlabel(f\"Epoch (of {1440})\")\n",
    "plt.ylabel(\"Day\")\n",
    "plt.show()"
   ]
  },
  {
   "cell_type": "markdown",
   "metadata": {},
   "source": [
    "SRI was computed as the likelihood that any two time-points (minute-by-minute) 24 h apart were the same sleep/wake state, across all days. The value could theoretically range 0 to 1, and was rescaled (y = 200 (x − 1/2)) to give a range of −100 to 100. This rescaling was chosen to give a more intuitive range. In practice, individuals will only display sleep patterns that range between an SRI of 0 (random) and 100 (periodic). Values less than 0 are still theoretically possible (e.g., sleep for 24 h, wake for 24 h, etc.), but very unlikely to be observed.\n",
    "\n",
    "Source: https://www.nature.com/articles/s41598-017-03171-4"
   ]
  },
  {
   "cell_type": "code",
   "execution_count": 31,
   "metadata": {},
   "outputs": [
    {
     "data": {
      "text/plain": [
       "0.75"
      ]
     },
     "execution_count": 31,
     "metadata": {},
     "output_type": "execute_result"
    }
   ],
   "source": [
    "def compare_sleep(list_to_compare):\n",
    "    '''function to calculate the amount of regularity of a sleeping time (e.g. the regularity at 11:15 or 19:00)'''\n",
    "    # calculate if there are differences between days that follow eachother\n",
    "    result = np.diff(list_to_compare)\n",
    "    \n",
    "    # remove Nan-values for list of differences, add one to each difference (e.g. 0 (no difference) becomes 1 etc.) and\n",
    "    # calculate the residual when dividing by two (points where there is a difference will then be 1 and otherwise 0)\n",
    "    result = ((result[~np.isnan(result)])+1)%2\n",
    "    \n",
    "    # calculate percentage of consistent wake/sleeping\n",
    "    result = sum(result)/len(result)\n",
    "    \n",
    "    return result\n",
    "\n",
    "\n",
    "compare_sleep([1,1,0,0,0])"
   ]
  },
  {
   "cell_type": "code",
   "execution_count": 36,
   "metadata": {},
   "outputs": [
    {
     "data": {
      "text/plain": [
       "33.0"
      ]
     },
     "execution_count": 36,
     "metadata": {},
     "output_type": "execute_result"
    }
   ],
   "source": [
    "def SRI_SCORE(data, daily_datapoints=1440):\n",
    "    '''Function to calculate the Sleep Regularity Index (SRI) for the given data\n",
    "       daily datapoints: 1440 (1-minute points), 2880 (30 second points)'''\n",
    "    \n",
    "    # reshape data into seperate days according to the daily datapoints\n",
    "    sleep_data = np.reshape(data, (daily_datapoints, -1), order='F')\n",
    "    #print(sleep_data)\n",
    "    \n",
    "    # calculate a list of consistency at all daily datapoints\n",
    "    consistency = [compare_sleep(i) for i in sleep_data if np.sum(~np.isnan(np.diff(i)))>0]\n",
    "    #print(consistency)\n",
    "    #print(np.mean(consistency))\n",
    "    \n",
    "    #calculate and return SRI-score\n",
    "    #return round((200*np.mean(consistency))-100, 2)\n",
    "    return round((200*(np.mean(consistency)-0.5)), 2)\n",
    "    \n",
    "SRI_SCORE(data=[0,0,1,1,0,0,0,1,0,1,1,1,0,0,1,1], daily_datapoints=4)"
   ]
  },
  {
   "cell_type": "code",
   "execution_count": 37,
   "metadata": {},
   "outputs": [
    {
     "data": {
      "text/plain": [
       "81.0"
      ]
     },
     "execution_count": 37,
     "metadata": {},
     "output_type": "execute_result"
    }
   ],
   "source": [
    "SRI_SCORE(data, daily_datapoints=2880)"
   ]
  },
  {
   "cell_type": "code",
   "execution_count": 40,
   "metadata": {},
   "outputs": [
    {
     "data": {
      "text/plain": [
       "74.0"
      ]
     },
     "execution_count": 40,
     "metadata": {},
     "output_type": "execute_result"
    }
   ],
   "source": [
    "SRI_SCORE(dataset_2, daily_datapoints=1440)"
   ]
  },
  {
   "cell_type": "code",
   "execution_count": 43,
   "metadata": {},
   "outputs": [
    {
     "data": {
      "text/plain": [
       "71.0"
      ]
     },
     "execution_count": 43,
     "metadata": {},
     "output_type": "execute_result"
    }
   ],
   "source": [
    "SRI_SCORE(dataset_2[54720:84960], daily_datapoints=1440)"
   ]
  },
  {
   "cell_type": "code",
   "execution_count": 48,
   "metadata": {},
   "outputs": [
    {
     "name": "stdout",
     "output_type": "stream",
     "text": [
      "72.0\n",
      "71.0\n",
      "76.0\n",
      "72.0\n",
      "69.0\n",
      "84.0\n"
     ]
    }
   ],
   "source": [
    "for i in range(6):\n",
    "    print(SRI_SCORE(dataset_2[21600*i:21600*(i+1)]))          "
   ]
  },
  {
   "cell_type": "code",
   "execution_count": null,
   "metadata": {},
   "outputs": [],
   "source": []
  }
 ],
 "metadata": {
  "kernelspec": {
   "display_name": "Python 3",
   "language": "python",
   "name": "python3"
  },
  "language_info": {
   "codemirror_mode": {
    "name": "ipython",
    "version": 3
   },
   "file_extension": ".py",
   "mimetype": "text/x-python",
   "name": "python",
   "nbconvert_exporter": "python",
   "pygments_lexer": "ipython3",
   "version": "3.8.3"
  }
 },
 "nbformat": 4,
 "nbformat_minor": 4
}
